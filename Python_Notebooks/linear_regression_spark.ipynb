{
 "cells": [
  {
   "cell_type": "code",
   "execution_count": 1,
   "metadata": {},
   "outputs": [],
   "source": [
    "import findspark\n",
    "findspark.init(\"/usr/local/spark\")\n",
    "\n",
    "from pyspark.sql import SparkSession\n",
    "# Build the SparkSession\n",
    "spark = SparkSession.builder \\\n",
    "   .master(\"local\") \\\n",
    "   .appName(\"Linear Regression Model\") \\\n",
    "   .config(\"spark.executor.memory\", \"1gb\") \\\n",
    "   .getOrCreate()\n",
    "   \n",
    "sc = spark.sparkContext"
   ]
  },
  {
   "cell_type": "code",
   "execution_count": 2,
   "metadata": {},
   "outputs": [],
   "source": [
    "df = (spark.read.format(\"csv\").options(header=\"true\").option(\"inferschema\",\"true\")\n",
    "    .load(\"./rental_crime/content.csv\"))\n",
    "# file:///usr/local/spark/README.md\n",
    "\n"
   ]
  },
  {
   "cell_type": "code",
   "execution_count": 46,
   "metadata": {
    "scrolled": true
   },
   "outputs": [
    {
     "data": {
      "text/plain": [
       "DataFrame[summary: string, crime_score: string]"
      ]
     },
     "execution_count": 46,
     "metadata": {},
     "output_type": "execute_result"
    }
   ],
   "source": [
    "# df.show(10)\n",
    "df.describe('crime_score')"
   ]
  },
  {
   "cell_type": "code",
   "execution_count": 16,
   "metadata": {
    "scrolled": true
   },
   "outputs": [],
   "source": [
    "# df.show()\n",
    "# df.select(['Zipcode','Year','Month','Primary Type','crime_score','RentalPrice']).show(10)\n",
    "sdf = df.groupBy(['Zipcode','Year-Month','Year','Month','crime_score','RentalPrice']).count().sort(['Year-Month','Zipcode'], ascending=True)\n",
    "# sdf.show()\n",
    "from pyspark.sql.functions import to_timestamp\n",
    "sdf = sdf.withColumn(\"Timestamp\", to_timestamp(\"Year-Month\", \"yyyy-MM\"))\n",
    "\n",
    "sdf = sdf.drop('Year-Month')\n",
    "# df.describe(columns[1:5]).show()"
   ]
  },
  {
   "cell_type": "code",
   "execution_count": 17,
   "metadata": {},
   "outputs": [],
   "source": [
    "# sdf = sdf.drop('RentalPrice')\n",
    "# sdf = sdf.drop('crime_score')\n",
    "sdf = sdf.drop('count')"
   ]
  },
  {
   "cell_type": "code",
   "execution_count": 18,
   "metadata": {
    "scrolled": true
   },
   "outputs": [
    {
     "name": "stdout",
     "output_type": "stream",
     "text": [
      "+-------+----+-----+-----------+-----------+-------------------+\n",
      "|Zipcode|Year|Month|crime_score|RentalPrice|          Timestamp|\n",
      "+-------+----+-----+-----------+-----------+-------------------+\n",
      "|  46327|2001|    1|   2.405761|       null|2001-01-01 00:00:00|\n",
      "|  46394|2001|    1|  1.5918214|       null|2001-01-01 00:00:00|\n",
      "|  60018|2001|    1|  12.613393|       null|2001-01-01 00:00:00|\n",
      "|  60106|2001|    1|        0.0|       null|2001-01-01 00:00:00|\n",
      "|  60171|2001|    1|        0.0|       null|2001-01-01 00:00:00|\n",
      "|  60176|2001|    1|        0.0|       null|2001-01-01 00:00:00|\n",
      "|  60302|2001|    1|  18.091293|       null|2001-01-01 00:00:00|\n",
      "|  60304|2001|    1|  2.8516543|       null|2001-01-01 00:00:00|\n",
      "|  60402|2001|    1| 0.08169401|       null|2001-01-01 00:00:00|\n",
      "|  60406|2001|    1|        0.0|       null|2001-01-01 00:00:00|\n",
      "|  60419|2001|    1|  3.1703038|       null|2001-01-01 00:00:00|\n",
      "|  60456|2001|    1|  5.3868523|       null|2001-01-01 00:00:00|\n",
      "|  60459|2001|    1|  6.1480236|       null|2001-01-01 00:00:00|\n",
      "|  60501|2001|    1|  1.7295897|       null|2001-01-01 00:00:00|\n",
      "|  60534|2001|    1|        0.0|       null|2001-01-01 00:00:00|\n",
      "|  60601|2001|    1|  1.9324331|       null|2001-01-01 00:00:00|\n",
      "|  60602|2001|    1|   78.02077|       null|2001-01-01 00:00:00|\n",
      "|  60603|2001|    1|  20.863369|       null|2001-01-01 00:00:00|\n",
      "|  60604|2001|    1|  7.2357116|       null|2001-01-01 00:00:00|\n",
      "|  60605|2001|    1|  22.207935|       null|2001-01-01 00:00:00|\n",
      "+-------+----+-----+-----------+-----------+-------------------+\n",
      "only showing top 20 rows\n",
      "\n"
     ]
    }
   ],
   "source": [
    "sdf.show()"
   ]
  },
  {
   "cell_type": "code",
   "execution_count": 19,
   "metadata": {},
   "outputs": [],
   "source": [
    "from pyspark.sql.functions import udf,col\n",
    "from pyspark.sql.types import IntegerType\n",
    "\n",
    "dateToInt = udf(lambda year, month : (year-2001)*12 + month, IntegerType())\n",
    "sdf = sdf.withColumn(\"date\", dateToInt(col('Year'), col('Month')))"
   ]
  },
  {
   "cell_type": "code",
   "execution_count": 45,
   "metadata": {},
   "outputs": [],
   "source": [
    "panda_sdf = sdf.toPandas()\n"
   ]
  },
  {
   "cell_type": "code",
   "execution_count": 75,
   "metadata": {},
   "outputs": [],
   "source": [
    "import matplotlib.pyplot as plt\n",
    "import pandas as pd\n",
    "\n",
    "filtered_sdf = panda_sdf[panda_sdf['Zipcode']==60619]\n",
    "#print(filtered_sdf.head())\n",
    "mask = (filtered_sdf['Timestamp'] > '2007-01-01') & (filtered_sdf['Timestamp'] <= '2009-05-01')\n",
    "filtered_sdf = filtered_sdf[mask]\n"
   ]
  },
  {
   "cell_type": "code",
   "execution_count": 76,
   "metadata": {
    "scrolled": true
   },
   "outputs": [
    {
     "name": "stdout",
     "output_type": "stream",
     "text": [
      "      Zipcode  Year  Month  crime_score  Timestamp  date\n",
      "5634    60619  2007      2    423.99014 2007-02-01    74\n",
      "5710    60619  2007      3    411.79245 2007-03-01    75\n",
      "5787    60619  2007      4    460.62137 2007-04-01    76\n",
      "5865    60619  2007      5    445.13318 2007-05-01    77\n",
      "5941    60619  2007      6    530.06100 2007-06-01    78\n"
     ]
    }
   ],
   "source": [
    "print(filtered_sdf.head())"
   ]
  },
  {
   "cell_type": "code",
   "execution_count": 77,
   "metadata": {
    "scrolled": false
   },
   "outputs": [
    {
     "data": {
      "image/png": "[encoded data removed]",
      "text/plain": [
       "<Figure size 432x288 with 1 Axes>"
      ]
     },
     "metadata": {
      "needs_background": "light"
     },
     "output_type": "display_data"
    }
   ],
   "source": [
    "filtered_sdf.plot(x='Timestamp', y='crime_score')\n",
    "# plt.scatter(filtered_sdf['Timestamp'], filtered_sdf['crime_score'])\n",
    "plt.show()"
   ]
  },
  {
   "cell_type": "code",
   "execution_count": 46,
   "metadata": {},
   "outputs": [],
   "source": [
    "import pandas as pd\n",
    "# try filtering and plotting on a regression\n",
    "# filtered_sdf = sdf.filter(sdf.Zipcode == '60603')\n",
    "one_hot = pd.get_dummies(panda_sdf['Zipcode'],prefix=\"zipcode\")\n",
    "# Drop column B as it is now encoded\n",
    "panda_sdf = panda_sdf.drop('Zipcode',axis = 1)\n",
    "# Join the encoded df\n",
    "panda_sdf = panda_sdf.join(one_hot)\n"
   ]
  },
  {
   "cell_type": "code",
   "execution_count": 47,
   "metadata": {},
   "outputs": [],
   "source": [
    "panda_sdf = panda_sdf.drop(['Year','Month'],axis = 1)"
   ]
  },
  {
   "cell_type": "code",
   "execution_count": null,
   "metadata": {},
   "outputs": [],
   "source": []
  },
  {
   "cell_type": "code",
   "execution_count": 48,
   "metadata": {},
   "outputs": [
    {
     "name": "stdout",
     "output_type": "stream",
     "text": [
      "   crime_score  RentalPrice  Timestamp  date  zipcode_46327  zipcode_46394  \\\n",
      "0     2.405761          NaN 2001-01-01     1              1              0   \n",
      "1     1.591821          NaN 2001-01-01     1              0              1   \n",
      "2    12.613393          NaN 2001-01-01     1              0              0   \n",
      "3     0.000000          NaN 2001-01-01     1              0              0   \n",
      "4     0.000000          NaN 2001-01-01     1              0              0   \n",
      "\n",
      "   zipcode_60018  zipcode_60068  zipcode_60106  zipcode_60131  ...  \\\n",
      "0              0              0              0              0  ...   \n",
      "1              0              0              0              0  ...   \n",
      "2              1              0              0              0  ...   \n",
      "3              0              0              1              0  ...   \n",
      "4              0              0              0              0  ...   \n",
      "\n",
      "   zipcode_60660  zipcode_60661  zipcode_60707  zipcode_60712  zipcode_60714  \\\n",
      "0              0              0              0              0              0   \n",
      "1              0              0              0              0              0   \n",
      "2              0              0              0              0              0   \n",
      "3              0              0              0              0              0   \n",
      "4              0              0              0              0              0   \n",
      "\n",
      "   zipcode_60803  zipcode_60804  zipcode_60805  zipcode_60827  zipcode_65692  \n",
      "0              0              0              0              0              0  \n",
      "1              0              0              0              0              0  \n",
      "2              0              0              0              0              0  \n",
      "3              0              0              0              0              0  \n",
      "4              0              0              0              0              0  \n",
      "\n",
      "[5 rows x 86 columns]\n"
     ]
    }
   ],
   "source": [
    "print(panda_sdf.head())"
   ]
  },
  {
   "cell_type": "code",
   "execution_count": 25,
   "metadata": {},
   "outputs": [
    {
     "name": "stdout",
     "output_type": "stream",
     "text": [
      "(16859,)\n"
     ]
    }
   ],
   "source": [
    "panda_sdf.shape\n",
    "print(panda_sdf['RentalPrice'].shape)\n",
    "# print(panda_sdf['crime_score'].shape)"
   ]
  },
  {
   "cell_type": "code",
   "execution_count": 28,
   "metadata": {},
   "outputs": [],
   "source": [
    "# for crime prediction\n",
    "X_input = panda_sdf.iloc[:,3:86]\n",
    "X_train = X_input.iloc[:8000,:]\n",
    "X_test = X_input.iloc[8000:,:]\n",
    "y_train = panda_sdf['crime_score'].iloc[:8000]\n",
    "y_test = panda_sdf['crime_score'].iloc[8000:]"
   ]
  },
  {
   "cell_type": "code",
   "execution_count": 50,
   "metadata": {},
   "outputs": [
    {
     "name": "stdout",
     "output_type": "stream",
     "text": [
      "      crime_score  RentalPrice  Timestamp  date  zipcode_46327  zipcode_46394  \\\n",
      "9261     2.502496       1797.0 2011-01-01   121              0              0   \n",
      "9265    27.408127       2026.0 2011-01-01   121              0              0   \n",
      "9267    64.088070       1946.0 2011-01-01   121              0              0   \n",
      "9268   120.754140       1526.0 2011-01-01   121              0              0   \n",
      "9269   189.150740       1343.0 2011-01-01   121              0              0   \n",
      "\n",
      "      zipcode_60018  zipcode_60068  zipcode_60106  zipcode_60131  ...  \\\n",
      "9261              0              0              0              0  ...   \n",
      "9265              0              0              0              0  ...   \n",
      "9267              0              0              0              0  ...   \n",
      "9268              0              0              0              0  ...   \n",
      "9269              0              0              0              0  ...   \n",
      "\n",
      "      zipcode_60660  zipcode_60661  zipcode_60707  zipcode_60712  \\\n",
      "9261              0              0              0              0   \n",
      "9265              0              0              0              0   \n",
      "9267              0              0              0              0   \n",
      "9268              0              0              0              0   \n",
      "9269              0              0              0              0   \n",
      "\n",
      "      zipcode_60714  zipcode_60803  zipcode_60804  zipcode_60805  \\\n",
      "9261              0              0              0              0   \n",
      "9265              0              0              0              0   \n",
      "9267              0              0              0              0   \n",
      "9268              0              0              0              0   \n",
      "9269              0              0              0              0   \n",
      "\n",
      "      zipcode_60827  zipcode_65692  \n",
      "9261              0              0  \n",
      "9265              0              0  \n",
      "9267              0              0  \n",
      "9268              0              0  \n",
      "9269              0              0  \n",
      "\n",
      "[5 rows x 86 columns]\n",
      "(5096, 86)\n"
     ]
    }
   ],
   "source": [
    "# for rental prediction\n",
    "rental_sdf = panda_sdf.dropna()\n",
    "print(rental_sdf.head())\n",
    "print(rental_sdf.shape)\n",
    "X_input = panda_sdf.iloc[:,3:86]\n",
    "X_train = X_input.iloc[:3500,:]\n",
    "X_test = X_input.iloc[3500:,:]\n",
    "panda_sdf['RentalPrice'] = panda_sdf['RentalPrice'].fillna(0)\n",
    "y_train = panda_sdf['RentalPrice'].iloc[:3500]\n",
    "y_test = panda_sdf['RentalPrice'].iloc[3500:]"
   ]
  },
  {
   "cell_type": "code",
   "execution_count": 51,
   "metadata": {
    "scrolled": true
   },
   "outputs": [
    {
     "name": "stdout",
     "output_type": "stream",
     "text": [
      "      date  zipcode_46327  zipcode_46394  zipcode_60018  zipcode_60068  \\\n",
      "3500    46              0              0              0              0   \n",
      "3501    46              0              0              0              0   \n",
      "3502    46              0              0              0              0   \n",
      "3503    46              0              0              0              0   \n",
      "3504    46              0              0              0              0   \n",
      "\n",
      "      zipcode_60106  zipcode_60131  zipcode_60171  zipcode_60176  \\\n",
      "3500              0              0              0              0   \n",
      "3501              0              0              0              0   \n",
      "3502              0              0              0              0   \n",
      "3503              0              0              0              0   \n",
      "3504              0              0              0              0   \n",
      "\n",
      "      zipcode_60202  ...  zipcode_60660  zipcode_60661  zipcode_60707  \\\n",
      "3500              0  ...              0              0              0   \n",
      "3501              0  ...              0              0              0   \n",
      "3502              0  ...              0              0              0   \n",
      "3503              0  ...              0              0              0   \n",
      "3504              0  ...              0              0              0   \n",
      "\n",
      "      zipcode_60712  zipcode_60714  zipcode_60803  zipcode_60804  \\\n",
      "3500              0              0              0              0   \n",
      "3501              0              0              0              0   \n",
      "3502              0              0              0              0   \n",
      "3503              0              0              0              0   \n",
      "3504              0              0              0              0   \n",
      "\n",
      "      zipcode_60805  zipcode_60827  zipcode_65692  \n",
      "3500              0              0              0  \n",
      "3501              0              0              0  \n",
      "3502              0              0              0  \n",
      "3503              0              0              0  \n",
      "3504              0              0              0  \n",
      "\n",
      "[5 rows x 83 columns]\n",
      "3500    0.0\n",
      "3501    0.0\n",
      "3502    0.0\n",
      "3503    0.0\n",
      "3504    0.0\n",
      "Name: RentalPrice, dtype: float64\n"
     ]
    }
   ],
   "source": [
    "print(X_test.head())\n",
    "print(y_test.head())"
   ]
  },
  {
   "cell_type": "code",
   "execution_count": 52,
   "metadata": {},
   "outputs": [],
   "source": [
    "from sklearn import linear_model\n",
    "lm = linear_model.LinearRegression(fit_intercept=True, normalize=True, copy_X=True)\n",
    "model = lm.fit(X_train,y_train)"
   ]
  },
  {
   "cell_type": "code",
   "execution_count": 53,
   "metadata": {},
   "outputs": [
    {
     "name": "stdout",
     "output_type": "stream",
     "text": [
      "Mean squared error: 1425776.66\n",
      "Variance score: -0.51\n"
     ]
    }
   ],
   "source": [
    "from sklearn.metrics import mean_squared_error, r2_score\n",
    "predictions = lm.predict(X_test)\n",
    "print(\"Mean squared error: %.2f\"\n",
    "      % mean_squared_error(y_test, predictions))\n",
    "print('Variance score: %.2f' % r2_score(y_test, predictions))\n",
    "# print(lm.score(X_input,panda_sdf['crime_score']))"
   ]
  },
  {
   "cell_type": "code",
   "execution_count": 92,
   "metadata": {},
   "outputs": [
    {
     "name": "stdout",
     "output_type": "stream",
     "text": [
      "[-1.66394612e-01 -4.43415599e+01 -4.14583672e+01 -3.30492881e+01\n",
      " -4.22051326e+01 -4.60540777e+01 -4.50457264e+01 -4.55584669e+01\n",
      " -4.59865821e+01 -4.37694407e+01 -2.70996053e+01 -4.25475623e+01\n",
      " -4.48906517e+01 -4.56914870e+01 -4.42159032e+01 -3.82593457e+01\n",
      " -3.99747077e+01 -4.40437061e+01 -4.55846062e+01 -4.02838466e+01\n",
      "  2.01518158e+01 -2.20044283e+01 -3.84156013e+01 -1.62660763e+01\n",
      " -2.85012527e+01  4.29084037e+01  1.20236626e+02  1.83817747e+02\n",
      "  8.46610252e+01 -4.46204959e+01  1.69165558e+02  1.98845319e+01\n",
      "  5.04630387e+01  9.45324906e+01  1.05073739e+02  2.50319241e+02\n",
      "  8.06057752e+01  4.29184515e+02  3.41654277e+02  4.19447087e+02\n",
      "  1.29984766e+02  2.17662582e+02  3.76303216e+02  7.60977875e+01\n",
      "  8.72425493e+01  3.45648800e+02  3.13157254e+02  1.33521272e+01\n",
      " -3.46667386e+01  1.25502624e+02 -2.47531127e+01 -6.52917890e+00\n",
      "  3.41397917e+02  3.18726324e+02  4.80475856e+01  2.52961007e+02\n",
      "  7.26934013e+01  1.15841955e+02  5.06822200e+01  1.20642033e+02\n",
      "  2.79428222e+02 -5.60332405e+00 -3.45152130e+01  2.91422379e+02\n",
      "  2.51093459e+02  3.10080919e+02  3.08479189e+01  1.11306878e+02\n",
      " -1.48381240e+01 -2.72789843e+01 -3.02119593e+01  4.67748963e+01\n",
      "  2.18186254e+01  2.79100793e+01 -2.00955196e+01 -1.88929631e+01\n",
      " -4.47556330e+01 -4.51769208e+01 -4.44980924e+01 -3.46347467e+01\n",
      " -4.02885449e+01]\n",
      "54.44702192347461\n"
     ]
    },
    {
     "data": {
      "image/png": "[encoded data removed]",
      "text/plain": [
       "<Figure size 432x288 with 1 Axes>"
      ]
     },
     "metadata": {},
     "output_type": "display_data"
    }
   ],
   "source": [
    "import matplotlib.pyplot as plt\n",
    "print(lm.coef_)\n",
    "print(lm.intercept_)\n",
    "\n",
    "plt.scatter(X_test['date'], y_test,  color='black')\n",
    "plt.plot(X_test['date'], predictions, color='blue', linewidth=3)\n",
    "\n",
    "plt.xticks(())\n",
    "plt.yticks(())\n",
    "\n",
    "plt.show()"
   ]
  },
  {
   "cell_type": "code",
   "execution_count": 53,
   "metadata": {
    "scrolled": true
   },
   "outputs": [
    {
     "name": "stdout",
     "output_type": "stream",
     "text": [
      "+-------+-----------+-----------+-----+-------------------+\n",
      "|Zipcode|crime_score|RentalPrice|count|          Timestamp|\n",
      "+-------+-----------+-----------+-----+-------------------+\n",
      "|  46327|   2.405761|       null|   20|2001-01-01 00:00:00|\n",
      "|  46394|  1.5918214|       null|   28|2001-01-01 00:00:00|\n",
      "|  60018|  12.613393|       null|  151|2001-01-01 00:00:00|\n",
      "|  60106|        0.0|       null|    1|2001-01-01 00:00:00|\n",
      "|  60171|        0.0|       null|    2|2001-01-01 00:00:00|\n",
      "|  60176|        0.0|       null|    1|2001-01-01 00:00:00|\n",
      "|  60302|  18.091293|       null|  101|2001-01-01 00:00:00|\n",
      "|  60304|  2.8516543|       null|   36|2001-01-01 00:00:00|\n",
      "|  60402| 0.08169401|       null|   11|2001-01-01 00:00:00|\n",
      "|  60406|        0.0|       null|    5|2001-01-01 00:00:00|\n",
      "|  60419|  3.1703038|       null|   29|2001-01-01 00:00:00|\n",
      "|  60456|  5.3868523|       null|   55|2001-01-01 00:00:00|\n",
      "|  60459|  6.1480236|       null|   77|2001-01-01 00:00:00|\n",
      "|  60501|  1.7295897|       null|   28|2001-01-01 00:00:00|\n",
      "|  60534|        0.0|       null|    2|2001-01-01 00:00:00|\n",
      "|  60601|  1.9324331|       null|   39|2001-01-01 00:00:00|\n",
      "|  60602|   78.02077|       null|  731|2001-01-01 00:00:00|\n",
      "|  60603|  20.863369|       null|  213|2001-01-01 00:00:00|\n",
      "|  60604|  7.2357116|       null|   83|2001-01-01 00:00:00|\n",
      "|  60605|  22.207935|       null|  175|2001-01-01 00:00:00|\n",
      "+-------+-----------+-----------+-----+-------------------+\n",
      "only showing top 20 rows\n",
      "\n"
     ]
    }
   ],
   "source": [
    "\n",
    "# sdf.show()\n",
    "# from pyspark_dist_explore import hist\n",
    "# import matplotlib.pyplot as plt\n",
    "\n",
    "# fig, ax = plt.subplots()\n",
    "# hist(ax, sdf, bins = 20, color=['red'])"
   ]
  },
  {
   "cell_type": "code",
   "execution_count": 72,
   "metadata": {},
   "outputs": [],
   "source": [
    "panda_sdf = sdf.toPandas()\n",
    "\n",
    "# sdf.describe(['Timestamp','crime_score'])\n",
    "# from matplotlib import pyplot\n",
    "# panda_sdf.plot(kind='barh',x='Timestamp',y='crime_score')"
   ]
  },
  {
   "cell_type": "code",
   "execution_count": 86,
   "metadata": {},
   "outputs": [
    {
     "name": "stdout",
     "output_type": "stream",
     "text": [
      "              2001-01             2001-02               2001-03  \\\n",
      "0   {46327: 2.405761}  {46327: 1.7813306}    {46327: 2.2542598}   \n",
      "1  {46394: 1.5918214}  {46394: 1.9566742}     {46394: 2.205916}   \n",
      "2  {60018: 12.613393}  {60018: 18.673098}    {60018: 20.448235}   \n",
      "3        {60106: 0.0}        {60176: 0.0}  {60171: 0.008465393}   \n",
      "4        {60171: 0.0}  {60302: 15.423354}          {60176: 0.0}   \n",
      "\n",
      "                 2001-04                2001-05                2001-06  \\\n",
      "0     {46327: 1.8880568}     {46327: 2.0326161}     {46327: 1.6740212}   \n",
      "1     {46394: 1.9370489}     {46394: 2.2095606}     {46394: 1.8189083}   \n",
      "2     {60018: 19.523895}     {60018: 17.258432}     {60018: 16.796118}   \n",
      "3  {60171: 0.0042326967}  {60171: 0.0021163484}  {60171: 0.0010581742}   \n",
      "4           {60176: 0.0}           {60176: 0.0}           {60176: 0.0}   \n",
      "\n",
      "              2001-07                2001-08                 2001-09  \\\n",
      "0  {46327: 2.0156004}     {46327: 1.4897541}      {46327: 1.4079517}   \n",
      "1  {46394: 2.4187343}      {46394: 2.729703}      {46394: 2.5616906}   \n",
      "2  {60018: 16.947838}     {60018: 16.762686}       {60018: 21.91906}   \n",
      "3        {60202: 0.0}           {60106: 0.0}  {60171: 0.00026454355}   \n",
      "4  {60302: 19.942507}  {60171: 0.0005290871}      {60302: 18.393085}   \n",
      "\n",
      "                  2001-10  ...              2018-05                 2018-06  \\\n",
      "0      {46327: 1.1845298}  ...   {46327: 0.8557066}     {46327: 0.45975018}   \n",
      "1      {46394: 2.7566755}  ...   {46394: 1.3930253}       {46394: 1.975724}   \n",
      "2       {60018: 18.89093}  ...   {60018: 13.355227}      {60018: 15.246847}   \n",
      "3  {60171: 0.00013227177}  ...     {60106: 0.36634}      {60131: 0.2280337}   \n",
      "4    {60176: 0.009234975}  ...  {60131: 0.30653468}  {60171: 0.00031901026}   \n",
      "\n",
      "                  2018-07                 2018-08                 2018-09  \\\n",
      "0      {46327: 1.1677167}      {46327: 1.6931546}       {46327: 1.759366}   \n",
      "1      {46394: 2.6664658}       {46394: 2.537747}      {46394: 1.3751745}   \n",
      "2      {60018: 11.789234}      {60018: 17.230528}      {60018: 20.616428}   \n",
      "3      {60131: 0.3240347}     {60131: 0.49109462}  {60171: 3.9876282e-05}   \n",
      "4  {60171: 0.00015950513}  {60171: 7.9752564e-05}      {60176: 1.0208116}   \n",
      "\n",
      "                  2018-10                2018-11              2018-12  \\\n",
      "0      {46327: 1.0290045}     {46327: 0.5800101}  {46327: 0.31257945}   \n",
      "1      {46394: 0.8154484}     {46394: 1.0945879}  {46394: 0.63896704}   \n",
      "2      {60018: 15.727105}     {60018: 15.686357}    {60018: 18.66789}   \n",
      "3     {60131: 0.24554731}       {60106: 0.18317}  {60106: 0.16777354}   \n",
      "4  {60171: 1.9938141e-05}  {60171: 9.969071e-06}   {60176: 0.5604982}   \n",
      "\n",
      "               2019-01             2019-02  \n",
      "0  {46327: 0.29007947}  {46394: 0.5508423}  \n",
      "1  {46394: 0.90141755}  {60018: 11.955594}  \n",
      "2    {60018: 17.61205}  {60176: 0.6249757}  \n",
      "3  {60106: 0.08388677}  {60302: 7.1266913}  \n",
      "4  {60176: 0.39063248}     {60304: 5.5391}  \n",
      "\n",
      "[5 rows x 218 columns]\n"
     ]
    }
   ],
   "source": [
    "import pandas as pd\n",
    "dict_df = pd.DataFrame({ key:pd.Series(value) for key, value in d.items() })\n",
    "# grouped_sdf = pd.DataFrame.from_dict(d, orient='index')\n",
    "print(dict_df.head())"
   ]
  },
  {
   "cell_type": "code",
   "execution_count": 67,
   "metadata": {
    "scrolled": false
   },
   "outputs": [
    {
     "name": "stdout",
     "output_type": "stream",
     "text": [
      "   Zipcode  crime_score  RentalPrice  count  Timestamp\n",
      "0    46327     2.405761          0.0     20 2001-01-01\n",
      "1    46394     1.591821          0.0     28 2001-01-01\n",
      "2    60018    12.613393          0.0    151 2001-01-01\n",
      "3    60106     0.000000          0.0      1 2001-01-01\n",
      "4    60171     0.000000          0.0      2 2001-01-01\n",
      "   crime_score  RentalPrice  count  Timestamp  zipcode_46327  zipcode_46394  \\\n",
      "0     2.405761          0.0     20 2001-01-01              1              0   \n",
      "1     1.591821          0.0     28 2001-01-01              0              1   \n",
      "2    12.613393          0.0    151 2001-01-01              0              0   \n",
      "3     0.000000          0.0      1 2001-01-01              0              0   \n",
      "4     0.000000          0.0      2 2001-01-01              0              0   \n",
      "\n",
      "   zipcode_60018  zipcode_60068  zipcode_60106  zipcode_60131  ...  \\\n",
      "0              0              0              0              0  ...   \n",
      "1              0              0              0              0  ...   \n",
      "2              1              0              0              0  ...   \n",
      "3              0              0              1              0  ...   \n",
      "4              0              0              0              0  ...   \n",
      "\n",
      "   zipcode_60660  zipcode_60661  zipcode_60707  zipcode_60712  zipcode_60714  \\\n",
      "0              0              0              0              0              0   \n",
      "1              0              0              0              0              0   \n",
      "2              0              0              0              0              0   \n",
      "3              0              0              0              0              0   \n",
      "4              0              0              0              0              0   \n",
      "\n",
      "   zipcode_60803  zipcode_60804  zipcode_60805  zipcode_60827  zipcode_65692  \n",
      "0              0              0              0              0              0  \n",
      "1              0              0              0              0              0  \n",
      "2              0              0              0              0              0  \n",
      "3              0              0              0              0              0  \n",
      "4              0              0              0              0              0  \n",
      "\n",
      "[5 rows x 86 columns]\n"
     ]
    }
   ],
   "source": [
    "\n",
    "print(panda_sdf.head())\n",
    "\n",
    "one_hot = pd.get_dummies(panda_sdf['Zipcode'],prefix=\"zipcode\")\n",
    "# Drop column B as it is now encoded\n",
    "panda_sdf = panda_sdf.drop('Zipcode',axis = 1)\n",
    "# Join the encoded df\n",
    "panda_sdf = panda_sdf.join(one_hot)\n",
    "# df['Date'] = pd.to_datetime(df['Date'])\n",
    "# df = df.set_index(['Date'], drop=True)\n",
    "print(panda_sdf.head())"
   ]
  },
  {
   "cell_type": "code",
   "execution_count": 68,
   "metadata": {},
   "outputs": [],
   "source": [
    "panda_sdf = panda_sdf.drop(['RentalPrice'], axis=1, inplace=True)"
   ]
  },
  {
   "cell_type": "code",
   "execution_count": 50,
   "metadata": {
    "scrolled": true
   },
   "outputs": [
    {
     "ename": "Py4JJavaError",
     "evalue": "An error occurred while calling z:org.apache.spark.api.python.PythonRDD.runJob.\n: org.apache.spark.SparkException: Job aborted due to stage failure: Task 0 in stage 57.0 failed 1 times, most recent failure: Lost task 0.0 in stage 57.0 (TID 3937, localhost, executor driver): org.apache.spark.api.python.PythonException: Traceback (most recent call last):\n  File \"/usr/local/spark/python/lib/pyspark.zip/pyspark/worker.py\", line 377, in main\n    process()\n  File \"/usr/local/spark/python/lib/pyspark.zip/pyspark/worker.py\", line 372, in process\n    serializer.dump_stream(func(split_index, iterator), outfile)\n  File \"/usr/local/spark/python/lib/pyspark.zip/pyspark/serializers.py\", line 393, in dump_stream\n    vs = list(itertools.islice(iterator, batch))\n  File \"/usr/local/spark/python/pyspark/rdd.py\", line 1354, in takeUpToNumLeft\n    yield next(iterator)\n  File \"/usr/local/spark/python/lib/pyspark.zip/pyspark/util.py\", line 99, in wrapper\n    return f(*args, **kwargs)\n  File \"<ipython-input-50-54b841ae1a67>\", line 4, in <lambda>\n  File \"/usr/local/spark/python/lib/pyspark.zip/pyspark/ml/linalg/__init__.py\", line 280, in __init__\n    ar = np.array(ar, dtype=np.float64)\nTypeError: float() argument must be a string or a number, not 'datetime.datetime'\n\n\tat org.apache.spark.api.python.BasePythonRunner$ReaderIterator.handlePythonException(PythonRunner.scala:452)\n\tat org.apache.spark.api.python.PythonRunner$$anon$1.read(PythonRunner.scala:588)\n\tat org.apache.spark.api.python.PythonRunner$$anon$1.read(PythonRunner.scala:571)\n\tat org.apache.spark.api.python.BasePythonRunner$ReaderIterator.hasNext(PythonRunner.scala:406)\n\tat org.apache.spark.InterruptibleIterator.hasNext(InterruptibleIterator.scala:37)\n\tat scala.collection.Iterator$class.foreach(Iterator.scala:891)\n\tat org.apache.spark.InterruptibleIterator.foreach(InterruptibleIterator.scala:28)\n\tat scala.collection.generic.Growable$class.$plus$plus$eq(Growable.scala:59)\n\tat scala.collection.mutable.ArrayBuffer.$plus$plus$eq(ArrayBuffer.scala:104)\n\tat scala.collection.mutable.ArrayBuffer.$plus$plus$eq(ArrayBuffer.scala:48)\n\tat scala.collection.TraversableOnce$class.to(TraversableOnce.scala:310)\n\tat org.apache.spark.InterruptibleIterator.to(InterruptibleIterator.scala:28)\n\tat scala.collection.TraversableOnce$class.toBuffer(TraversableOnce.scala:302)\n\tat org.apache.spark.InterruptibleIterator.toBuffer(InterruptibleIterator.scala:28)\n\tat scala.collection.TraversableOnce$class.toArray(TraversableOnce.scala:289)\n\tat org.apache.spark.InterruptibleIterator.toArray(InterruptibleIterator.scala:28)\n\tat org.apache.spark.api.python.PythonRDD$$anonfun$3.apply(PythonRDD.scala:153)\n\tat org.apache.spark.api.python.PythonRDD$$anonfun$3.apply(PythonRDD.scala:153)\n\tat org.apache.spark.SparkContext$$anonfun$runJob$5.apply(SparkContext.scala:2101)\n\tat org.apache.spark.SparkContext$$anonfun$runJob$5.apply(SparkContext.scala:2101)\n\tat org.apache.spark.scheduler.ResultTask.runTask(ResultTask.scala:90)\n\tat org.apache.spark.scheduler.Task.run(Task.scala:121)\n\tat org.apache.spark.executor.Executor$TaskRunner$$anonfun$10.apply(Executor.scala:403)\n\tat org.apache.spark.util.Utils$.tryWithSafeFinally(Utils.scala:1360)\n\tat org.apache.spark.executor.Executor$TaskRunner.run(Executor.scala:409)\n\tat java.util.concurrent.ThreadPoolExecutor.runWorker(ThreadPoolExecutor.java:1149)\n\tat java.util.concurrent.ThreadPoolExecutor$Worker.run(ThreadPoolExecutor.java:624)\n\tat java.lang.Thread.run(Thread.java:748)\n\nDriver stacktrace:\n\tat org.apache.spark.scheduler.DAGScheduler.org$apache$spark$scheduler$DAGScheduler$$failJobAndIndependentStages(DAGScheduler.scala:1889)\n\tat org.apache.spark.scheduler.DAGScheduler$$anonfun$abortStage$1.apply(DAGScheduler.scala:1877)\n\tat org.apache.spark.scheduler.DAGScheduler$$anonfun$abortStage$1.apply(DAGScheduler.scala:1876)\n\tat scala.collection.mutable.ResizableArray$class.foreach(ResizableArray.scala:59)\n\tat scala.collection.mutable.ArrayBuffer.foreach(ArrayBuffer.scala:48)\n\tat org.apache.spark.scheduler.DAGScheduler.abortStage(DAGScheduler.scala:1876)\n\tat org.apache.spark.scheduler.DAGScheduler$$anonfun$handleTaskSetFailed$1.apply(DAGScheduler.scala:926)\n\tat org.apache.spark.scheduler.DAGScheduler$$anonfun$handleTaskSetFailed$1.apply(DAGScheduler.scala:926)\n\tat scala.Option.foreach(Option.scala:257)\n\tat org.apache.spark.scheduler.DAGScheduler.handleTaskSetFailed(DAGScheduler.scala:926)\n\tat org.apache.spark.scheduler.DAGSchedulerEventProcessLoop.doOnReceive(DAGScheduler.scala:2110)\n\tat org.apache.spark.scheduler.DAGSchedulerEventProcessLoop.onReceive(DAGScheduler.scala:2059)\n\tat org.apache.spark.scheduler.DAGSchedulerEventProcessLoop.onReceive(DAGScheduler.scala:2048)\n\tat org.apache.spark.util.EventLoop$$anon$1.run(EventLoop.scala:49)\n\tat org.apache.spark.scheduler.DAGScheduler.runJob(DAGScheduler.scala:737)\n\tat org.apache.spark.SparkContext.runJob(SparkContext.scala:2061)\n\tat org.apache.spark.SparkContext.runJob(SparkContext.scala:2082)\n\tat org.apache.spark.SparkContext.runJob(SparkContext.scala:2101)\n\tat org.apache.spark.api.python.PythonRDD$.runJob(PythonRDD.scala:153)\n\tat org.apache.spark.api.python.PythonRDD.runJob(PythonRDD.scala)\n\tat sun.reflect.NativeMethodAccessorImpl.invoke0(Native Method)\n\tat sun.reflect.NativeMethodAccessorImpl.invoke(NativeMethodAccessorImpl.java:62)\n\tat sun.reflect.DelegatingMethodAccessorImpl.invoke(DelegatingMethodAccessorImpl.java:43)\n\tat java.lang.reflect.Method.invoke(Method.java:498)\n\tat py4j.reflection.MethodInvoker.invoke(MethodInvoker.java:244)\n\tat py4j.reflection.ReflectionEngine.invoke(ReflectionEngine.java:357)\n\tat py4j.Gateway.invoke(Gateway.java:282)\n\tat py4j.commands.AbstractCommand.invokeMethod(AbstractCommand.java:132)\n\tat py4j.commands.CallCommand.execute(CallCommand.java:79)\n\tat py4j.GatewayConnection.run(GatewayConnection.java:238)\n\tat java.lang.Thread.run(Thread.java:748)\nCaused by: org.apache.spark.api.python.PythonException: Traceback (most recent call last):\n  File \"/usr/local/spark/python/lib/pyspark.zip/pyspark/worker.py\", line 377, in main\n    process()\n  File \"/usr/local/spark/python/lib/pyspark.zip/pyspark/worker.py\", line 372, in process\n    serializer.dump_stream(func(split_index, iterator), outfile)\n  File \"/usr/local/spark/python/lib/pyspark.zip/pyspark/serializers.py\", line 393, in dump_stream\n    vs = list(itertools.islice(iterator, batch))\n  File \"/usr/local/spark/python/pyspark/rdd.py\", line 1354, in takeUpToNumLeft\n    yield next(iterator)\n  File \"/usr/local/spark/python/lib/pyspark.zip/pyspark/util.py\", line 99, in wrapper\n    return f(*args, **kwargs)\n  File \"<ipython-input-50-54b841ae1a67>\", line 4, in <lambda>\n  File \"/usr/local/spark/python/lib/pyspark.zip/pyspark/ml/linalg/__init__.py\", line 280, in __init__\n    ar = np.array(ar, dtype=np.float64)\nTypeError: float() argument must be a string or a number, not 'datetime.datetime'\n\n\tat org.apache.spark.api.python.BasePythonRunner$ReaderIterator.handlePythonException(PythonRunner.scala:452)\n\tat org.apache.spark.api.python.PythonRunner$$anon$1.read(PythonRunner.scala:588)\n\tat org.apache.spark.api.python.PythonRunner$$anon$1.read(PythonRunner.scala:571)\n\tat org.apache.spark.api.python.BasePythonRunner$ReaderIterator.hasNext(PythonRunner.scala:406)\n\tat org.apache.spark.InterruptibleIterator.hasNext(InterruptibleIterator.scala:37)\n\tat scala.collection.Iterator$class.foreach(Iterator.scala:891)\n\tat org.apache.spark.InterruptibleIterator.foreach(InterruptibleIterator.scala:28)\n\tat scala.collection.generic.Growable$class.$plus$plus$eq(Growable.scala:59)\n\tat scala.collection.mutable.ArrayBuffer.$plus$plus$eq(ArrayBuffer.scala:104)\n\tat scala.collection.mutable.ArrayBuffer.$plus$plus$eq(ArrayBuffer.scala:48)\n\tat scala.collection.TraversableOnce$class.to(TraversableOnce.scala:310)\n\tat org.apache.spark.InterruptibleIterator.to(InterruptibleIterator.scala:28)\n\tat scala.collection.TraversableOnce$class.toBuffer(TraversableOnce.scala:302)\n\tat org.apache.spark.InterruptibleIterator.toBuffer(InterruptibleIterator.scala:28)\n\tat scala.collection.TraversableOnce$class.toArray(TraversableOnce.scala:289)\n\tat org.apache.spark.InterruptibleIterator.toArray(InterruptibleIterator.scala:28)\n\tat org.apache.spark.api.python.PythonRDD$$anonfun$3.apply(PythonRDD.scala:153)\n\tat org.apache.spark.api.python.PythonRDD$$anonfun$3.apply(PythonRDD.scala:153)\n\tat org.apache.spark.SparkContext$$anonfun$runJob$5.apply(SparkContext.scala:2101)\n\tat org.apache.spark.SparkContext$$anonfun$runJob$5.apply(SparkContext.scala:2101)\n\tat org.apache.spark.scheduler.ResultTask.runTask(ResultTask.scala:90)\n\tat org.apache.spark.scheduler.Task.run(Task.scala:121)\n\tat org.apache.spark.executor.Executor$TaskRunner$$anonfun$10.apply(Executor.scala:403)\n\tat org.apache.spark.util.Utils$.tryWithSafeFinally(Utils.scala:1360)\n\tat org.apache.spark.executor.Executor$TaskRunner.run(Executor.scala:409)\n\tat java.util.concurrent.ThreadPoolExecutor.runWorker(ThreadPoolExecutor.java:1149)\n\tat java.util.concurrent.ThreadPoolExecutor$Worker.run(ThreadPoolExecutor.java:624)\n\t... 1 more\n",
     "output_type": "error",
     "traceback": [
      "\u001b[0;31m---------------------------------------------------------------------------\u001b[0m",
      "\u001b[0;31mPy4JJavaError\u001b[0m                             Traceback (most recent call last)",
      "\u001b[0;32m<ipython-input-50-54b841ae1a67>\u001b[0m in \u001b[0;36m<module>\u001b[0;34m\u001b[0m\n\u001b[1;32m      5\u001b[0m \u001b[0;34m\u001b[0m\u001b[0m\n\u001b[1;32m      6\u001b[0m \u001b[0;31m# Replace `df` with the new DataFrame\u001b[0m\u001b[0;34m\u001b[0m\u001b[0;34m\u001b[0m\u001b[0;34m\u001b[0m\u001b[0m\n\u001b[0;32m----> 7\u001b[0;31m \u001b[0mmodified_df\u001b[0m \u001b[0;34m=\u001b[0m \u001b[0mspark\u001b[0m\u001b[0;34m.\u001b[0m\u001b[0mcreateDataFrame\u001b[0m\u001b[0;34m(\u001b[0m\u001b[0minput_data\u001b[0m\u001b[0;34m,\u001b[0m \u001b[0;34m[\u001b[0m\u001b[0;34m\"label\"\u001b[0m\u001b[0;34m,\u001b[0m \u001b[0;34m\"features\"\u001b[0m\u001b[0;34m]\u001b[0m\u001b[0;34m)\u001b[0m\u001b[0;34m\u001b[0m\u001b[0;34m\u001b[0m\u001b[0m\n\u001b[0m\u001b[1;32m      8\u001b[0m \u001b[0mmodified_df\u001b[0m\u001b[0;34m.\u001b[0m\u001b[0mshow\u001b[0m\u001b[0;34m(\u001b[0m\u001b[0;34m)\u001b[0m\u001b[0;34m\u001b[0m\u001b[0;34m\u001b[0m\u001b[0m\n",
      "\u001b[0;32m/usr/local/spark/python/pyspark/sql/session.py\u001b[0m in \u001b[0;36mcreateDataFrame\u001b[0;34m(self, data, schema, samplingRatio, verifySchema)\u001b[0m\n\u001b[1;32m    744\u001b[0m \u001b[0;34m\u001b[0m\u001b[0m\n\u001b[1;32m    745\u001b[0m         \u001b[0;32mif\u001b[0m \u001b[0misinstance\u001b[0m\u001b[0;34m(\u001b[0m\u001b[0mdata\u001b[0m\u001b[0;34m,\u001b[0m \u001b[0mRDD\u001b[0m\u001b[0;34m)\u001b[0m\u001b[0;34m:\u001b[0m\u001b[0;34m\u001b[0m\u001b[0;34m\u001b[0m\u001b[0m\n\u001b[0;32m--> 746\u001b[0;31m             \u001b[0mrdd\u001b[0m\u001b[0;34m,\u001b[0m \u001b[0mschema\u001b[0m \u001b[0;34m=\u001b[0m \u001b[0mself\u001b[0m\u001b[0;34m.\u001b[0m\u001b[0m_createFromRDD\u001b[0m\u001b[0;34m(\u001b[0m\u001b[0mdata\u001b[0m\u001b[0;34m.\u001b[0m\u001b[0mmap\u001b[0m\u001b[0;34m(\u001b[0m\u001b[0mprepare\u001b[0m\u001b[0;34m)\u001b[0m\u001b[0;34m,\u001b[0m \u001b[0mschema\u001b[0m\u001b[0;34m,\u001b[0m \u001b[0msamplingRatio\u001b[0m\u001b[0;34m)\u001b[0m\u001b[0;34m\u001b[0m\u001b[0;34m\u001b[0m\u001b[0m\n\u001b[0m\u001b[1;32m    747\u001b[0m         \u001b[0;32melse\u001b[0m\u001b[0;34m:\u001b[0m\u001b[0;34m\u001b[0m\u001b[0;34m\u001b[0m\u001b[0m\n\u001b[1;32m    748\u001b[0m             \u001b[0mrdd\u001b[0m\u001b[0;34m,\u001b[0m \u001b[0mschema\u001b[0m \u001b[0;34m=\u001b[0m \u001b[0mself\u001b[0m\u001b[0;34m.\u001b[0m\u001b[0m_createFromLocal\u001b[0m\u001b[0;34m(\u001b[0m\u001b[0mmap\u001b[0m\u001b[0;34m(\u001b[0m\u001b[0mprepare\u001b[0m\u001b[0;34m,\u001b[0m \u001b[0mdata\u001b[0m\u001b[0;34m)\u001b[0m\u001b[0;34m,\u001b[0m \u001b[0mschema\u001b[0m\u001b[0;34m)\u001b[0m\u001b[0;34m\u001b[0m\u001b[0;34m\u001b[0m\u001b[0m\n",
      "\u001b[0;32m/usr/local/spark/python/pyspark/sql/session.py\u001b[0m in \u001b[0;36m_createFromRDD\u001b[0;34m(self, rdd, schema, samplingRatio)\u001b[0m\n\u001b[1;32m    388\u001b[0m         \"\"\"\n\u001b[1;32m    389\u001b[0m         \u001b[0;32mif\u001b[0m \u001b[0mschema\u001b[0m \u001b[0;32mis\u001b[0m \u001b[0;32mNone\u001b[0m \u001b[0;32mor\u001b[0m \u001b[0misinstance\u001b[0m\u001b[0;34m(\u001b[0m\u001b[0mschema\u001b[0m\u001b[0;34m,\u001b[0m \u001b[0;34m(\u001b[0m\u001b[0mlist\u001b[0m\u001b[0;34m,\u001b[0m \u001b[0mtuple\u001b[0m\u001b[0;34m)\u001b[0m\u001b[0;34m)\u001b[0m\u001b[0;34m:\u001b[0m\u001b[0;34m\u001b[0m\u001b[0;34m\u001b[0m\u001b[0m\n\u001b[0;32m--> 390\u001b[0;31m             \u001b[0mstruct\u001b[0m \u001b[0;34m=\u001b[0m \u001b[0mself\u001b[0m\u001b[0;34m.\u001b[0m\u001b[0m_inferSchema\u001b[0m\u001b[0;34m(\u001b[0m\u001b[0mrdd\u001b[0m\u001b[0;34m,\u001b[0m \u001b[0msamplingRatio\u001b[0m\u001b[0;34m,\u001b[0m \u001b[0mnames\u001b[0m\u001b[0;34m=\u001b[0m\u001b[0mschema\u001b[0m\u001b[0;34m)\u001b[0m\u001b[0;34m\u001b[0m\u001b[0;34m\u001b[0m\u001b[0m\n\u001b[0m\u001b[1;32m    391\u001b[0m             \u001b[0mconverter\u001b[0m \u001b[0;34m=\u001b[0m \u001b[0m_create_converter\u001b[0m\u001b[0;34m(\u001b[0m\u001b[0mstruct\u001b[0m\u001b[0;34m)\u001b[0m\u001b[0;34m\u001b[0m\u001b[0;34m\u001b[0m\u001b[0m\n\u001b[1;32m    392\u001b[0m             \u001b[0mrdd\u001b[0m \u001b[0;34m=\u001b[0m \u001b[0mrdd\u001b[0m\u001b[0;34m.\u001b[0m\u001b[0mmap\u001b[0m\u001b[0;34m(\u001b[0m\u001b[0mconverter\u001b[0m\u001b[0;34m)\u001b[0m\u001b[0;34m\u001b[0m\u001b[0;34m\u001b[0m\u001b[0m\n",
      "\u001b[0;32m/usr/local/spark/python/pyspark/sql/session.py\u001b[0m in \u001b[0;36m_inferSchema\u001b[0;34m(self, rdd, samplingRatio, names)\u001b[0m\n\u001b[1;32m    359\u001b[0m         \u001b[0;34m:\u001b[0m\u001b[0;32mreturn\u001b[0m\u001b[0;34m:\u001b[0m \u001b[0;34m:\u001b[0m\u001b[0;32mclass\u001b[0m\u001b[0;34m:\u001b[0m\u001b[0;31m`\u001b[0m\u001b[0mpyspark\u001b[0m\u001b[0;34m.\u001b[0m\u001b[0msql\u001b[0m\u001b[0;34m.\u001b[0m\u001b[0mtypes\u001b[0m\u001b[0;34m.\u001b[0m\u001b[0mStructType\u001b[0m\u001b[0;31m`\u001b[0m\u001b[0;34m\u001b[0m\u001b[0;34m\u001b[0m\u001b[0m\n\u001b[1;32m    360\u001b[0m         \"\"\"\n\u001b[0;32m--> 361\u001b[0;31m         \u001b[0mfirst\u001b[0m \u001b[0;34m=\u001b[0m \u001b[0mrdd\u001b[0m\u001b[0;34m.\u001b[0m\u001b[0mfirst\u001b[0m\u001b[0;34m(\u001b[0m\u001b[0;34m)\u001b[0m\u001b[0;34m\u001b[0m\u001b[0;34m\u001b[0m\u001b[0m\n\u001b[0m\u001b[1;32m    362\u001b[0m         \u001b[0;32mif\u001b[0m \u001b[0;32mnot\u001b[0m \u001b[0mfirst\u001b[0m\u001b[0;34m:\u001b[0m\u001b[0;34m\u001b[0m\u001b[0;34m\u001b[0m\u001b[0m\n\u001b[1;32m    363\u001b[0m             raise ValueError(\"The first row in RDD is empty, \"\n",
      "\u001b[0;32m/usr/local/spark/python/pyspark/rdd.py\u001b[0m in \u001b[0;36mfirst\u001b[0;34m(self)\u001b[0m\n\u001b[1;32m   1376\u001b[0m         \u001b[0mValueError\u001b[0m\u001b[0;34m:\u001b[0m \u001b[0mRDD\u001b[0m \u001b[0;32mis\u001b[0m \u001b[0mempty\u001b[0m\u001b[0;34m\u001b[0m\u001b[0;34m\u001b[0m\u001b[0m\n\u001b[1;32m   1377\u001b[0m         \"\"\"\n\u001b[0;32m-> 1378\u001b[0;31m         \u001b[0mrs\u001b[0m \u001b[0;34m=\u001b[0m \u001b[0mself\u001b[0m\u001b[0;34m.\u001b[0m\u001b[0mtake\u001b[0m\u001b[0;34m(\u001b[0m\u001b[0;36m1\u001b[0m\u001b[0;34m)\u001b[0m\u001b[0;34m\u001b[0m\u001b[0;34m\u001b[0m\u001b[0m\n\u001b[0m\u001b[1;32m   1379\u001b[0m         \u001b[0;32mif\u001b[0m \u001b[0mrs\u001b[0m\u001b[0;34m:\u001b[0m\u001b[0;34m\u001b[0m\u001b[0;34m\u001b[0m\u001b[0m\n\u001b[1;32m   1380\u001b[0m             \u001b[0;32mreturn\u001b[0m \u001b[0mrs\u001b[0m\u001b[0;34m[\u001b[0m\u001b[0;36m0\u001b[0m\u001b[0;34m]\u001b[0m\u001b[0;34m\u001b[0m\u001b[0;34m\u001b[0m\u001b[0m\n",
      "\u001b[0;32m/usr/local/spark/python/pyspark/rdd.py\u001b[0m in \u001b[0;36mtake\u001b[0;34m(self, num)\u001b[0m\n\u001b[1;32m   1358\u001b[0m \u001b[0;34m\u001b[0m\u001b[0m\n\u001b[1;32m   1359\u001b[0m             \u001b[0mp\u001b[0m \u001b[0;34m=\u001b[0m \u001b[0mrange\u001b[0m\u001b[0;34m(\u001b[0m\u001b[0mpartsScanned\u001b[0m\u001b[0;34m,\u001b[0m \u001b[0mmin\u001b[0m\u001b[0;34m(\u001b[0m\u001b[0mpartsScanned\u001b[0m \u001b[0;34m+\u001b[0m \u001b[0mnumPartsToTry\u001b[0m\u001b[0;34m,\u001b[0m \u001b[0mtotalParts\u001b[0m\u001b[0;34m)\u001b[0m\u001b[0;34m)\u001b[0m\u001b[0;34m\u001b[0m\u001b[0;34m\u001b[0m\u001b[0m\n\u001b[0;32m-> 1360\u001b[0;31m             \u001b[0mres\u001b[0m \u001b[0;34m=\u001b[0m \u001b[0mself\u001b[0m\u001b[0;34m.\u001b[0m\u001b[0mcontext\u001b[0m\u001b[0;34m.\u001b[0m\u001b[0mrunJob\u001b[0m\u001b[0;34m(\u001b[0m\u001b[0mself\u001b[0m\u001b[0;34m,\u001b[0m \u001b[0mtakeUpToNumLeft\u001b[0m\u001b[0;34m,\u001b[0m \u001b[0mp\u001b[0m\u001b[0;34m)\u001b[0m\u001b[0;34m\u001b[0m\u001b[0;34m\u001b[0m\u001b[0m\n\u001b[0m\u001b[1;32m   1361\u001b[0m \u001b[0;34m\u001b[0m\u001b[0m\n\u001b[1;32m   1362\u001b[0m             \u001b[0mitems\u001b[0m \u001b[0;34m+=\u001b[0m \u001b[0mres\u001b[0m\u001b[0;34m\u001b[0m\u001b[0;34m\u001b[0m\u001b[0m\n",
      "\u001b[0;32m/usr/local/spark/python/pyspark/context.py\u001b[0m in \u001b[0;36mrunJob\u001b[0;34m(self, rdd, partitionFunc, partitions, allowLocal)\u001b[0m\n\u001b[1;32m   1067\u001b[0m         \u001b[0;31m# SparkContext#runJob.\u001b[0m\u001b[0;34m\u001b[0m\u001b[0;34m\u001b[0m\u001b[0;34m\u001b[0m\u001b[0m\n\u001b[1;32m   1068\u001b[0m         \u001b[0mmappedRDD\u001b[0m \u001b[0;34m=\u001b[0m \u001b[0mrdd\u001b[0m\u001b[0;34m.\u001b[0m\u001b[0mmapPartitions\u001b[0m\u001b[0;34m(\u001b[0m\u001b[0mpartitionFunc\u001b[0m\u001b[0;34m)\u001b[0m\u001b[0;34m\u001b[0m\u001b[0;34m\u001b[0m\u001b[0m\n\u001b[0;32m-> 1069\u001b[0;31m         \u001b[0msock_info\u001b[0m \u001b[0;34m=\u001b[0m \u001b[0mself\u001b[0m\u001b[0;34m.\u001b[0m\u001b[0m_jvm\u001b[0m\u001b[0;34m.\u001b[0m\u001b[0mPythonRDD\u001b[0m\u001b[0;34m.\u001b[0m\u001b[0mrunJob\u001b[0m\u001b[0;34m(\u001b[0m\u001b[0mself\u001b[0m\u001b[0;34m.\u001b[0m\u001b[0m_jsc\u001b[0m\u001b[0;34m.\u001b[0m\u001b[0msc\u001b[0m\u001b[0;34m(\u001b[0m\u001b[0;34m)\u001b[0m\u001b[0;34m,\u001b[0m \u001b[0mmappedRDD\u001b[0m\u001b[0;34m.\u001b[0m\u001b[0m_jrdd\u001b[0m\u001b[0;34m,\u001b[0m \u001b[0mpartitions\u001b[0m\u001b[0;34m)\u001b[0m\u001b[0;34m\u001b[0m\u001b[0;34m\u001b[0m\u001b[0m\n\u001b[0m\u001b[1;32m   1070\u001b[0m         \u001b[0;32mreturn\u001b[0m \u001b[0mlist\u001b[0m\u001b[0;34m(\u001b[0m\u001b[0m_load_from_socket\u001b[0m\u001b[0;34m(\u001b[0m\u001b[0msock_info\u001b[0m\u001b[0;34m,\u001b[0m \u001b[0mmappedRDD\u001b[0m\u001b[0;34m.\u001b[0m\u001b[0m_jrdd_deserializer\u001b[0m\u001b[0;34m)\u001b[0m\u001b[0;34m)\u001b[0m\u001b[0;34m\u001b[0m\u001b[0;34m\u001b[0m\u001b[0m\n\u001b[1;32m   1071\u001b[0m \u001b[0;34m\u001b[0m\u001b[0m\n",
      "\u001b[0;32m/usr/local/spark/python/lib/py4j-0.10.7-src.zip/py4j/java_gateway.py\u001b[0m in \u001b[0;36m__call__\u001b[0;34m(self, *args)\u001b[0m\n\u001b[1;32m   1255\u001b[0m         \u001b[0manswer\u001b[0m \u001b[0;34m=\u001b[0m \u001b[0mself\u001b[0m\u001b[0;34m.\u001b[0m\u001b[0mgateway_client\u001b[0m\u001b[0;34m.\u001b[0m\u001b[0msend_command\u001b[0m\u001b[0;34m(\u001b[0m\u001b[0mcommand\u001b[0m\u001b[0;34m)\u001b[0m\u001b[0;34m\u001b[0m\u001b[0;34m\u001b[0m\u001b[0m\n\u001b[1;32m   1256\u001b[0m         return_value = get_return_value(\n\u001b[0;32m-> 1257\u001b[0;31m             answer, self.gateway_client, self.target_id, self.name)\n\u001b[0m\u001b[1;32m   1258\u001b[0m \u001b[0;34m\u001b[0m\u001b[0m\n\u001b[1;32m   1259\u001b[0m         \u001b[0;32mfor\u001b[0m \u001b[0mtemp_arg\u001b[0m \u001b[0;32min\u001b[0m \u001b[0mtemp_args\u001b[0m\u001b[0;34m:\u001b[0m\u001b[0;34m\u001b[0m\u001b[0;34m\u001b[0m\u001b[0m\n",
      "\u001b[0;32m/usr/local/spark/python/pyspark/sql/utils.py\u001b[0m in \u001b[0;36mdeco\u001b[0;34m(*a, **kw)\u001b[0m\n\u001b[1;32m     61\u001b[0m     \u001b[0;32mdef\u001b[0m \u001b[0mdeco\u001b[0m\u001b[0;34m(\u001b[0m\u001b[0;34m*\u001b[0m\u001b[0ma\u001b[0m\u001b[0;34m,\u001b[0m \u001b[0;34m**\u001b[0m\u001b[0mkw\u001b[0m\u001b[0;34m)\u001b[0m\u001b[0;34m:\u001b[0m\u001b[0;34m\u001b[0m\u001b[0;34m\u001b[0m\u001b[0m\n\u001b[1;32m     62\u001b[0m         \u001b[0;32mtry\u001b[0m\u001b[0;34m:\u001b[0m\u001b[0;34m\u001b[0m\u001b[0;34m\u001b[0m\u001b[0m\n\u001b[0;32m---> 63\u001b[0;31m             \u001b[0;32mreturn\u001b[0m \u001b[0mf\u001b[0m\u001b[0;34m(\u001b[0m\u001b[0;34m*\u001b[0m\u001b[0ma\u001b[0m\u001b[0;34m,\u001b[0m \u001b[0;34m**\u001b[0m\u001b[0mkw\u001b[0m\u001b[0;34m)\u001b[0m\u001b[0;34m\u001b[0m\u001b[0;34m\u001b[0m\u001b[0m\n\u001b[0m\u001b[1;32m     64\u001b[0m         \u001b[0;32mexcept\u001b[0m \u001b[0mpy4j\u001b[0m\u001b[0;34m.\u001b[0m\u001b[0mprotocol\u001b[0m\u001b[0;34m.\u001b[0m\u001b[0mPy4JJavaError\u001b[0m \u001b[0;32mas\u001b[0m \u001b[0me\u001b[0m\u001b[0;34m:\u001b[0m\u001b[0;34m\u001b[0m\u001b[0;34m\u001b[0m\u001b[0m\n\u001b[1;32m     65\u001b[0m             \u001b[0ms\u001b[0m \u001b[0;34m=\u001b[0m \u001b[0me\u001b[0m\u001b[0;34m.\u001b[0m\u001b[0mjava_exception\u001b[0m\u001b[0;34m.\u001b[0m\u001b[0mtoString\u001b[0m\u001b[0;34m(\u001b[0m\u001b[0;34m)\u001b[0m\u001b[0;34m\u001b[0m\u001b[0;34m\u001b[0m\u001b[0m\n",
      "\u001b[0;32m/usr/local/spark/python/lib/py4j-0.10.7-src.zip/py4j/protocol.py\u001b[0m in \u001b[0;36mget_return_value\u001b[0;34m(answer, gateway_client, target_id, name)\u001b[0m\n\u001b[1;32m    326\u001b[0m                 raise Py4JJavaError(\n\u001b[1;32m    327\u001b[0m                     \u001b[0;34m\"An error occurred while calling {0}{1}{2}.\\n\"\u001b[0m\u001b[0;34m.\u001b[0m\u001b[0;34m\u001b[0m\u001b[0;34m\u001b[0m\u001b[0m\n\u001b[0;32m--> 328\u001b[0;31m                     format(target_id, \".\", name), value)\n\u001b[0m\u001b[1;32m    329\u001b[0m             \u001b[0;32melse\u001b[0m\u001b[0;34m:\u001b[0m\u001b[0;34m\u001b[0m\u001b[0;34m\u001b[0m\u001b[0m\n\u001b[1;32m    330\u001b[0m                 raise Py4JError(\n",
      "\u001b[0;31mPy4JJavaError\u001b[0m: An error occurred while calling z:org.apache.spark.api.python.PythonRDD.runJob.\n: org.apache.spark.SparkException: Job aborted due to stage failure: Task 0 in stage 57.0 failed 1 times, most recent failure: Lost task 0.0 in stage 57.0 (TID 3937, localhost, executor driver): org.apache.spark.api.python.PythonException: Traceback (most recent call last):\n  File \"/usr/local/spark/python/lib/pyspark.zip/pyspark/worker.py\", line 377, in main\n    process()\n  File \"/usr/local/spark/python/lib/pyspark.zip/pyspark/worker.py\", line 372, in process\n    serializer.dump_stream(func(split_index, iterator), outfile)\n  File \"/usr/local/spark/python/lib/pyspark.zip/pyspark/serializers.py\", line 393, in dump_stream\n    vs = list(itertools.islice(iterator, batch))\n  File \"/usr/local/spark/python/pyspark/rdd.py\", line 1354, in takeUpToNumLeft\n    yield next(iterator)\n  File \"/usr/local/spark/python/lib/pyspark.zip/pyspark/util.py\", line 99, in wrapper\n    return f(*args, **kwargs)\n  File \"<ipython-input-50-54b841ae1a67>\", line 4, in <lambda>\n  File \"/usr/local/spark/python/lib/pyspark.zip/pyspark/ml/linalg/__init__.py\", line 280, in __init__\n    ar = np.array(ar, dtype=np.float64)\nTypeError: float() argument must be a string or a number, not 'datetime.datetime'\n\n\tat org.apache.spark.api.python.BasePythonRunner$ReaderIterator.handlePythonException(PythonRunner.scala:452)\n\tat org.apache.spark.api.python.PythonRunner$$anon$1.read(PythonRunner.scala:588)\n\tat org.apache.spark.api.python.PythonRunner$$anon$1.read(PythonRunner.scala:571)\n\tat org.apache.spark.api.python.BasePythonRunner$ReaderIterator.hasNext(PythonRunner.scala:406)\n\tat org.apache.spark.InterruptibleIterator.hasNext(InterruptibleIterator.scala:37)\n\tat scala.collection.Iterator$class.foreach(Iterator.scala:891)\n\tat org.apache.spark.InterruptibleIterator.foreach(InterruptibleIterator.scala:28)\n\tat scala.collection.generic.Growable$class.$plus$plus$eq(Growable.scala:59)\n\tat scala.collection.mutable.ArrayBuffer.$plus$plus$eq(ArrayBuffer.scala:104)\n\tat scala.collection.mutable.ArrayBuffer.$plus$plus$eq(ArrayBuffer.scala:48)\n\tat scala.collection.TraversableOnce$class.to(TraversableOnce.scala:310)\n\tat org.apache.spark.InterruptibleIterator.to(InterruptibleIterator.scala:28)\n\tat scala.collection.TraversableOnce$class.toBuffer(TraversableOnce.scala:302)\n\tat org.apache.spark.InterruptibleIterator.toBuffer(InterruptibleIterator.scala:28)\n\tat scala.collection.TraversableOnce$class.toArray(TraversableOnce.scala:289)\n\tat org.apache.spark.InterruptibleIterator.toArray(InterruptibleIterator.scala:28)\n\tat org.apache.spark.api.python.PythonRDD$$anonfun$3.apply(PythonRDD.scala:153)\n\tat org.apache.spark.api.python.PythonRDD$$anonfun$3.apply(PythonRDD.scala:153)\n\tat org.apache.spark.SparkContext$$anonfun$runJob$5.apply(SparkContext.scala:2101)\n\tat org.apache.spark.SparkContext$$anonfun$runJob$5.apply(SparkContext.scala:2101)\n\tat org.apache.spark.scheduler.ResultTask.runTask(ResultTask.scala:90)\n\tat org.apache.spark.scheduler.Task.run(Task.scala:121)\n\tat org.apache.spark.executor.Executor$TaskRunner$$anonfun$10.apply(Executor.scala:403)\n\tat org.apache.spark.util.Utils$.tryWithSafeFinally(Utils.scala:1360)\n\tat org.apache.spark.executor.Executor$TaskRunner.run(Executor.scala:409)\n\tat java.util.concurrent.ThreadPoolExecutor.runWorker(ThreadPoolExecutor.java:1149)\n\tat java.util.concurrent.ThreadPoolExecutor$Worker.run(ThreadPoolExecutor.java:624)\n\tat java.lang.Thread.run(Thread.java:748)\n\nDriver stacktrace:\n\tat org.apache.spark.scheduler.DAGScheduler.org$apache$spark$scheduler$DAGScheduler$$failJobAndIndependentStages(DAGScheduler.scala:1889)\n\tat org.apache.spark.scheduler.DAGScheduler$$anonfun$abortStage$1.apply(DAGScheduler.scala:1877)\n\tat org.apache.spark.scheduler.DAGScheduler$$anonfun$abortStage$1.apply(DAGScheduler.scala:1876)\n\tat scala.collection.mutable.ResizableArray$class.foreach(ResizableArray.scala:59)\n\tat scala.collection.mutable.ArrayBuffer.foreach(ArrayBuffer.scala:48)\n\tat org.apache.spark.scheduler.DAGScheduler.abortStage(DAGScheduler.scala:1876)\n\tat org.apache.spark.scheduler.DAGScheduler$$anonfun$handleTaskSetFailed$1.apply(DAGScheduler.scala:926)\n\tat org.apache.spark.scheduler.DAGScheduler$$anonfun$handleTaskSetFailed$1.apply(DAGScheduler.scala:926)\n\tat scala.Option.foreach(Option.scala:257)\n\tat org.apache.spark.scheduler.DAGScheduler.handleTaskSetFailed(DAGScheduler.scala:926)\n\tat org.apache.spark.scheduler.DAGSchedulerEventProcessLoop.doOnReceive(DAGScheduler.scala:2110)\n\tat org.apache.spark.scheduler.DAGSchedulerEventProcessLoop.onReceive(DAGScheduler.scala:2059)\n\tat org.apache.spark.scheduler.DAGSchedulerEventProcessLoop.onReceive(DAGScheduler.scala:2048)\n\tat org.apache.spark.util.EventLoop$$anon$1.run(EventLoop.scala:49)\n\tat org.apache.spark.scheduler.DAGScheduler.runJob(DAGScheduler.scala:737)\n\tat org.apache.spark.SparkContext.runJob(SparkContext.scala:2061)\n\tat org.apache.spark.SparkContext.runJob(SparkContext.scala:2082)\n\tat org.apache.spark.SparkContext.runJob(SparkContext.scala:2101)\n\tat org.apache.spark.api.python.PythonRDD$.runJob(PythonRDD.scala:153)\n\tat org.apache.spark.api.python.PythonRDD.runJob(PythonRDD.scala)\n\tat sun.reflect.NativeMethodAccessorImpl.invoke0(Native Method)\n\tat sun.reflect.NativeMethodAccessorImpl.invoke(NativeMethodAccessorImpl.java:62)\n\tat sun.reflect.DelegatingMethodAccessorImpl.invoke(DelegatingMethodAccessorImpl.java:43)\n\tat java.lang.reflect.Method.invoke(Method.java:498)\n\tat py4j.reflection.MethodInvoker.invoke(MethodInvoker.java:244)\n\tat py4j.reflection.ReflectionEngine.invoke(ReflectionEngine.java:357)\n\tat py4j.Gateway.invoke(Gateway.java:282)\n\tat py4j.commands.AbstractCommand.invokeMethod(AbstractCommand.java:132)\n\tat py4j.commands.CallCommand.execute(CallCommand.java:79)\n\tat py4j.GatewayConnection.run(GatewayConnection.java:238)\n\tat java.lang.Thread.run(Thread.java:748)\nCaused by: org.apache.spark.api.python.PythonException: Traceback (most recent call last):\n  File \"/usr/local/spark/python/lib/pyspark.zip/pyspark/worker.py\", line 377, in main\n    process()\n  File \"/usr/local/spark/python/lib/pyspark.zip/pyspark/worker.py\", line 372, in process\n    serializer.dump_stream(func(split_index, iterator), outfile)\n  File \"/usr/local/spark/python/lib/pyspark.zip/pyspark/serializers.py\", line 393, in dump_stream\n    vs = list(itertools.islice(iterator, batch))\n  File \"/usr/local/spark/python/pyspark/rdd.py\", line 1354, in takeUpToNumLeft\n    yield next(iterator)\n  File \"/usr/local/spark/python/lib/pyspark.zip/pyspark/util.py\", line 99, in wrapper\n    return f(*args, **kwargs)\n  File \"<ipython-input-50-54b841ae1a67>\", line 4, in <lambda>\n  File \"/usr/local/spark/python/lib/pyspark.zip/pyspark/ml/linalg/__init__.py\", line 280, in __init__\n    ar = np.array(ar, dtype=np.float64)\nTypeError: float() argument must be a string or a number, not 'datetime.datetime'\n\n\tat org.apache.spark.api.python.BasePythonRunner$ReaderIterator.handlePythonException(PythonRunner.scala:452)\n\tat org.apache.spark.api.python.PythonRunner$$anon$1.read(PythonRunner.scala:588)\n\tat org.apache.spark.api.python.PythonRunner$$anon$1.read(PythonRunner.scala:571)\n\tat org.apache.spark.api.python.BasePythonRunner$ReaderIterator.hasNext(PythonRunner.scala:406)\n\tat org.apache.spark.InterruptibleIterator.hasNext(InterruptibleIterator.scala:37)\n\tat scala.collection.Iterator$class.foreach(Iterator.scala:891)\n\tat org.apache.spark.InterruptibleIterator.foreach(InterruptibleIterator.scala:28)\n\tat scala.collection.generic.Growable$class.$plus$plus$eq(Growable.scala:59)\n\tat scala.collection.mutable.ArrayBuffer.$plus$plus$eq(ArrayBuffer.scala:104)\n\tat scala.collection.mutable.ArrayBuffer.$plus$plus$eq(ArrayBuffer.scala:48)\n\tat scala.collection.TraversableOnce$class.to(TraversableOnce.scala:310)\n\tat org.apache.spark.InterruptibleIterator.to(InterruptibleIterator.scala:28)\n\tat scala.collection.TraversableOnce$class.toBuffer(TraversableOnce.scala:302)\n\tat org.apache.spark.InterruptibleIterator.toBuffer(InterruptibleIterator.scala:28)\n\tat scala.collection.TraversableOnce$class.toArray(TraversableOnce.scala:289)\n\tat org.apache.spark.InterruptibleIterator.toArray(InterruptibleIterator.scala:28)\n\tat org.apache.spark.api.python.PythonRDD$$anonfun$3.apply(PythonRDD.scala:153)\n\tat org.apache.spark.api.python.PythonRDD$$anonfun$3.apply(PythonRDD.scala:153)\n\tat org.apache.spark.SparkContext$$anonfun$runJob$5.apply(SparkContext.scala:2101)\n\tat org.apache.spark.SparkContext$$anonfun$runJob$5.apply(SparkContext.scala:2101)\n\tat org.apache.spark.scheduler.ResultTask.runTask(ResultTask.scala:90)\n\tat org.apache.spark.scheduler.Task.run(Task.scala:121)\n\tat org.apache.spark.executor.Executor$TaskRunner$$anonfun$10.apply(Executor.scala:403)\n\tat org.apache.spark.util.Utils$.tryWithSafeFinally(Utils.scala:1360)\n\tat org.apache.spark.executor.Executor$TaskRunner.run(Executor.scala:409)\n\tat java.util.concurrent.ThreadPoolExecutor.runWorker(ThreadPoolExecutor.java:1149)\n\tat java.util.concurrent.ThreadPoolExecutor$Worker.run(ThreadPoolExecutor.java:624)\n\t... 1 more\n"
     ]
    }
   ],
   "source": [
    "# df.describe([\"roomsPerHousehold\",\"populationPerHousehold\",\"bedroomsPerHousehold\"]).show()\n",
    "from pyspark.ml.linalg import DenseVector\n",
    "# Define the `input_data` \n",
    "input_data = sdf.rdd.map(lambda x: (x[1], DenseVector([x[0],x[3],x[4]])))\n",
    "\n",
    "# Replace `df` with the new DataFrame\n",
    "modified_df = spark.createDataFrame(input_data, [\"label\", \"features\"])\n",
    "modified_df.show()"
   ]
  },
  {
   "cell_type": "code",
   "execution_count": 31,
   "metadata": {},
   "outputs": [
    {
     "data": {
      "text/plain": [
       "[Row(label=4.526, features=DenseVector([129.0, 322.0, 126.0, 8.3252, 6.9841, 2.5556, 0.1466]), features_scaled=DenseVector([0.3062, 0.2843, 0.3296, 4.3821, 2.8228, 0.2461, 2.5264])),\n",
       " Row(label=3.585, features=DenseVector([1106.0, 2401.0, 1138.0, 8.3014, 6.2381, 2.1098, 0.1558]), features_scaled=DenseVector([2.6255, 2.1202, 2.9765, 4.3696, 2.5213, 0.2031, 2.6851]))]"
      ]
     },
     "execution_count": 31,
     "metadata": {},
     "output_type": "execute_result"
    }
   ],
   "source": [
    "# Import `StandardScaler` \n",
    "from pyspark.ml.feature import StandardScaler\n",
    "\n",
    "# Initialize the `standardScaler`\n",
    "standardScaler = StandardScaler(inputCol=\"features\", outputCol=\"features_scaled\")\n",
    "\n",
    "# Fit the DataFrame to the scaler\n",
    "scaler = standardScaler.fit(df)\n",
    "\n",
    "# Transform the data in `df` with the scaler\n",
    "scaled_df = scaler.transform(df)\n",
    "\n",
    "# Inspect the result\n",
    "scaled_df.take(2)"
   ]
  },
  {
   "cell_type": "code",
   "execution_count": 32,
   "metadata": {},
   "outputs": [],
   "source": [
    "# Split the data into train and test sets\n",
    "train_data, test_data = scaled_df.randomSplit([.8,.2],seed=1234)\n",
    "\n",
    "# Import `LinearRegression`\n",
    "from pyspark.ml.regression import LinearRegression\n",
    "\n",
    "# Initialize `lr`\n",
    "lr = LinearRegression(labelCol=\"label\", maxIter=10, regParam=0.3, elasticNetParam=0.8)\n",
    "\n",
    "# Fit the data to the model\n",
    "linearModel = lr.fit(train_data)"
   ]
  },
  {
   "cell_type": "code",
   "execution_count": 33,
   "metadata": {},
   "outputs": [
    {
     "data": {
      "text/plain": [
       "[(1.1340115638008952, 0.14999),\n",
       " (1.4485018834650096, 0.14999),\n",
       " (1.5713396046425587, 0.14999),\n",
       " (1.7496542762527307, 0.283),\n",
       " (1.2438468929500472, 0.366)]"
      ]
     },
     "execution_count": 33,
     "metadata": {},
     "output_type": "execute_result"
    }
   ],
   "source": [
    "predicted = linearModel.transform(test_data)\n",
    "\n",
    "# Extract the predictions and the \"known\" correct labels\n",
    "predictions = predicted.select(\"prediction\").rdd.map(lambda x: x[0])\n",
    "labels = predicted.select(\"label\").rdd.map(lambda x: x[0])\n",
    "\n",
    "# Zip `predictions` and `labels` into a list\n",
    "predictionAndLabel = predictions.zip(labels).collect()\n",
    "predictionAndLabel[:5]"
   ]
  },
  {
   "cell_type": "code",
   "execution_count": 38,
   "metadata": {},
   "outputs": [
    {
     "name": "stdout",
     "output_type": "stream",
     "text": [
      "[0.0,0.0,0.0,0.2796215289269825,0.0,0.0,0.0]\n",
      "0.9841344205626824\n",
      "0.8765335684459216\n",
      "0.42282227755911483\n"
     ]
    }
   ],
   "source": [
    "# Coefficients for the model\n",
    "print(linearModel.coefficients)\n",
    "\n",
    "# Intercept for the model\n",
    "print(linearModel.intercept)\n",
    "\n",
    "# Get the RMSE\n",
    "print(linearModel.summary.rootMeanSquaredError)\n",
    "\n",
    "# Get the R2\n",
    "print(linearModel.summary.r2)"
   ]
  },
  {
   "cell_type": "code",
   "execution_count": 9,
   "metadata": {},
   "outputs": [],
   "source": [
    "spark.stop()\n"
   ]
  },
  {
   "cell_type": "code",
   "execution_count": null,
   "metadata": {},
   "outputs": [],
   "source": []
  }
 ],
 "metadata": {
  "kernelspec": {
   "display_name": "Python 3",
   "language": "python",
   "name": "python3"
  },
  "language_info": {
   "codemirror_mode": {
    "name": "ipython",
    "version": 3
   },
   "file_extension": ".py",
   "mimetype": "text/x-python",
   "name": "python",
   "nbconvert_exporter": "python",
   "pygments_lexer": "ipython3",
   "version": "3.7.3"
  }
 },
 "nbformat": 4,
 "nbformat_minor": 2
}

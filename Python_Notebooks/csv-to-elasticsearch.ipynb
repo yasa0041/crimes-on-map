{
 "cells": [
  {
   "cell_type": "code",
   "execution_count": 57,
   "metadata": {},
   "outputs": [],
   "source": [
    "import csv\n",
    "from elasticsearch import helpers, Elasticsearch\n",
    "\n",
    "#Upload csv file to Elasticsearch index\n",
    "es = Elasticsearch([{'host': '34.73.60.209', 'port': 9200}])\n",
    "with open('../LA_Data/LA_ES_Upload.csv', 'r') as outfile:\n",
    "    reader = csv.DictReader(outfile)\n",
    "    helpers.bulk(es, reader, index=\"combined_crimes\", doc_type=\"type\",  request_timeout = 10000)"
   ]
  },
  {
   "cell_type": "code",
   "execution_count": 52,
   "metadata": {},
   "outputs": [
    {
     "data": {
      "text/plain": [
       "0.3251867175696753"
      ]
     },
     "execution_count": 52,
     "metadata": {},
     "output_type": "execute_result"
    }
   ],
   "source": [
    "import pandas as pd\n",
    "import numpy as np\n",
    "\n",
    "#df1 = pd.read_csv('../LA_Data/LA_ES_Upload.csv')\n",
    "#df2 = pd.read_csv('../Chicago_Data/Chicago_ES_Upload.csv')\n",
    "\n",
    "df2['Rental_Price'].isna().value_counts()\n",
    "\n",
    "2193933/len(df2)"
   ]
  }
 ],
 "metadata": {
  "kernelspec": {
   "display_name": "Python 3",
   "language": "python",
   "name": "python3"
  },
  "language_info": {
   "codemirror_mode": {
    "name": "ipython",
    "version": 3
   },
   "file_extension": ".py",
   "mimetype": "text/x-python",
   "name": "python",
   "nbconvert_exporter": "python",
   "pygments_lexer": "ipython3",
   "version": "3.7.2"
  }
 },
 "nbformat": 4,
 "nbformat_minor": 2
}

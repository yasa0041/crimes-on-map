{
 "cells": [
  {
   "cell_type": "code",
   "execution_count": null,
   "metadata": {},
   "outputs": [],
   "source": [
    "import pandas as pd\n",
    "\n",
    "#Modify the csv file to remove crime records that are missing geolocation\n",
    "df = pd.read_csv('Chicago_Crimes_2001_to_2_19_19.csv')\n",
    "df = df.loc[df['Location'] != 'nan,nan']\n",
    "df['Location'] = df.apply(lambda row: str(row['Latitude']) + \",\"+ str(row['Longitude']), axis=1)\n",
    "df.to_csv('Chicago_Crimes_2001_to_2_19_19_Geolocations_Only', index=False)"
   ]
  },
  {
   "cell_type": "code",
   "execution_count": 70,
   "metadata": {},
   "outputs": [],
   "source": [
    "import csv\n",
    "from elasticsearch import helpers, Elasticsearch\n",
    "\n",
    "#Upload csv file to Elasticsearch index\n",
    "es = Elasticsearch([{'host': '34.73.60.209', 'port': 9200}])\n",
    "with open('Chicago_Crimes_2001_to_2_19_19_Geolocations_Only', 'r') as outfile:\n",
    "    reader = csv.DictReader(outfile)\n",
    "    helpers.bulk(es, reader, index=\"crimes\", doc_type=\"type\",  request_timeout = 10000)"
   ]
  },
  {
   "cell_type": "code",
   "execution_count": 2,
   "metadata": {},
   "outputs": [],
   "source": [
    "import pandas as pd\n",
    "df = pd.read_csv('Chicago_Crimes_2001_to_2_19_19_Geolocations_Only.csv')"
   ]
  },
  {
   "cell_type": "code",
   "execution_count": 8,
   "metadata": {},
   "outputs": [
    {
     "data": {
      "text/plain": [
       "79"
      ]
     },
     "execution_count": 8,
     "metadata": {},
     "output_type": "execute_result"
    }
   ],
   "source": [
    "pd.set_option('display.max_columns', 25)\n",
    "df.head()\n",
    "len(df['Community Area'].unique())"
   ]
  }
 ],
 "metadata": {
  "kernelspec": {
   "display_name": "Python 3",
   "language": "python",
   "name": "python3"
  },
  "language_info": {
   "codemirror_mode": {
    "name": "ipython",
    "version": 3
   },
   "file_extension": ".py",
   "mimetype": "text/x-python",
   "name": "python",
   "nbconvert_exporter": "python",
   "pygments_lexer": "ipython3",
   "version": "3.7.2"
  }
 },
 "nbformat": 4,
 "nbformat_minor": 2
}
